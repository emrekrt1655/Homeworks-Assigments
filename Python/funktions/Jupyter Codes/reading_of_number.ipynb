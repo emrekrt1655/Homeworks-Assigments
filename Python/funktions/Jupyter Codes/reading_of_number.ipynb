{
 "cells": [
  {
   "cell_type": "markdown",
   "metadata": {},
   "source": [
    "\n",
    "### Kullanıcıdan 2 basamaklı bir sayı alın ve bu sayının okunuşunu bulan bir fonksiyon yazın.\n",
    "    \n",
    "    \n",
    "      \n",
    "    \n",
    "        "
   ]
  },
  {
   "cell_type": "code",
   "execution_count": 1,
   "metadata": {},
   "outputs": [],
   "source": [
    "def reading ():\n",
    "    a = input(\"Please enter 2 digits number: \")\n",
    "    \n",
    "    number = [0,1,2,3,4,5,6,7,8,9]\n",
    "\n",
    "    digit_ten = [\"ten\", \"twenty\", \"thirty\", \"forty\", \"fifty\", \"sixty\",\"seventy\", \"eighty\", \"nighty\",]\n",
    "    exeption = [\"ten\", \"eleven\", \"twelve\", \"thirteen\", \"fourteen\", \"fifteen\", \"sixteen\", \"seventeen\", \"eighteen\", \"nineteen\"]\n",
    "\n",
    "    if int(a[0]) == 1 and int(a[1]) in number: \n",
    "        print(exeption[int(a[1])])\n",
    "\n",
    "    elif int(a[0]) in number:\n",
    "        print(digit_ten[int(a[0])-1], end = \" \")\n",
    "        digit_one = [\"\",\"one\", \"two\", \"three\", \"four\", \"five\", \"six\", \"seven\", \"eight\", \"nine\"]\n",
    "        if int(a[1]) in number:\n",
    "            print(digit_one[int(a[1])])\n"
   ]
  },
  {
   "cell_type": "code",
   "execution_count": 2,
   "metadata": {},
   "outputs": [
    {
     "name": "stdout",
     "output_type": "stream",
     "text": [
      "Please enter 2 digits number: 23\n",
      "twenty three\n"
     ]
    }
   ],
   "source": [
    "reading()"
   ]
  },
  {
   "cell_type": "code",
   "execution_count": 3,
   "metadata": {},
   "outputs": [
    {
     "name": "stdout",
     "output_type": "stream",
     "text": [
      "Please enter 2 digits number: 10\n",
      "ten\n",
      "Please enter 2 digits number: 98\n",
      "nighty eight\n",
      "Please enter 2 digits number: 30\n",
      "thirty \n",
      "Please enter 2 digits number: 40\n",
      "forty \n",
      "Please enter 2 digits number: 12\n",
      "twelve\n"
     ]
    }
   ],
   "source": [
    "reading()\n",
    "reading()\n",
    "reading()\n",
    "reading()\n",
    "reading()"
   ]
  },
  {
   "cell_type": "code",
   "execution_count": null,
   "metadata": {},
   "outputs": [],
   "source": []
  }
 ],
 "metadata": {
  "kernelspec": {
   "display_name": "Python 3",
   "language": "python",
   "name": "python3"
  },
  "language_info": {
   "codemirror_mode": {
    "name": "ipython",
    "version": 3
   },
   "file_extension": ".py",
   "mimetype": "text/x-python",
   "name": "python",
   "nbconvert_exporter": "python",
   "pygments_lexer": "ipython3",
   "version": "3.7.6"
  }
 },
 "nbformat": 4,
 "nbformat_minor": 4
}
