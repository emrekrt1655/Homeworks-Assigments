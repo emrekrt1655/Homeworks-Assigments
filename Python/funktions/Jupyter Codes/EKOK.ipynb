{
 "cells": [
  {
   "cell_type": "markdown",
   "metadata": {},
   "source": [
    "### Write a function that takes 2 numbers from the user and returns the smallest multiple of these numbers (EKOK)."
   ]
  },
  {
   "cell_type": "code",
   "execution_count": 1,
   "metadata": {},
   "outputs": [],
   "source": [
    "from modules.tlcdd import tlcd"
   ]
  },
  {
   "cell_type": "code",
   "execution_count": 2,
   "metadata": {},
   "outputs": [],
   "source": [
    "def EKOK(x,y):\n",
    "    \n",
    "    return (x * y)  / (tlcd(x, y))\n"
   ]
  },
  {
   "cell_type": "code",
   "execution_count": 16,
   "metadata": {},
   "outputs": [
    {
     "data": {
      "text/plain": [
       "60.0"
      ]
     },
     "execution_count": 16,
     "metadata": {},
     "output_type": "execute_result"
    }
   ],
   "source": [
    "EKOK(15,20)"
   ]
  },
  {
   "cell_type": "code",
   "execution_count": 11,
   "metadata": {},
   "outputs": [],
   "source": [
    "# Method 2\n",
    "def prime(a):\n",
    "    count = 0\n",
    "\n",
    "    for i in range (1, a+1) :\n",
    "        if not (a % i) : count += 1\n",
    "        \n",
    "    if (a == 0) or (a == 1) or (count >= 3) : return None\n",
    "    else : return a"
   ]
  },
  {
   "cell_type": "code",
   "execution_count": 12,
   "metadata": {},
   "outputs": [],
   "source": [
    "def EKOK2(c,d):\n",
    "    cd_list = []\n",
    "    counter = 2\n",
    "    ekok = 1\n",
    "    while c != 1 or d != 1:\n",
    "        if c % counter == 0 or d % counter == 0:\n",
    "            if counter == prime(counter):\n",
    "               \n",
    "                if c % counter == 0 and d % counter != 0:\n",
    "                    c = c / counter\n",
    "                    cd_list.append(counter)\n",
    "                elif d % counter == 0 and c % counter != 0:\n",
    "                    d = d / counter\n",
    "                    cd_list.append(counter)\n",
    "                elif c % counter == 0 and d % counter == 0:\n",
    "                    c = c / counter\n",
    "                    d = d / counter\n",
    "                    cd_list.append(counter)\n",
    "        elif c % counter != 0 and d % counter != 0 :\n",
    "            counter += 1\n",
    "    for i in cd_list:\n",
    "        ekok *= i\n",
    "    print(cd_list)\n",
    "    return ekok\n",
    "        \n",
    "                    "
   ]
  },
  {
   "cell_type": "code",
   "execution_count": 17,
   "metadata": {},
   "outputs": [
    {
     "name": "stdout",
     "output_type": "stream",
     "text": [
      "[2, 2, 3, 5]\n"
     ]
    },
    {
     "data": {
      "text/plain": [
       "60"
      ]
     },
     "execution_count": 17,
     "metadata": {},
     "output_type": "execute_result"
    }
   ],
   "source": [
    "EKOK2(15,20)"
   ]
  },
  {
   "cell_type": "code",
   "execution_count": null,
   "metadata": {},
   "outputs": [],
   "source": []
  }
 ],
 "metadata": {
  "kernelspec": {
   "display_name": "Python 3",
   "language": "python",
   "name": "python3"
  },
  "language_info": {
   "codemirror_mode": {
    "name": "ipython",
    "version": 3
   },
   "file_extension": ".py",
   "mimetype": "text/x-python",
   "name": "python",
   "nbconvert_exporter": "python",
   "pygments_lexer": "ipython3",
   "version": "3.7.6"
  }
 },
 "nbformat": 4,
 "nbformat_minor": 4
}
