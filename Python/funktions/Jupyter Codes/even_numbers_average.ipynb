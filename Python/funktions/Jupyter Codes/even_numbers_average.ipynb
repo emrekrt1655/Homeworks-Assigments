{
 "cells": [
  {
   "cell_type": "markdown",
   "metadata": {},
   "source": [
    "### Write the Python program that finds the average of the even numbers between the 2 numbers entered by the user\n"
   ]
  },
  {
   "cell_type": "code",
   "execution_count": 2,
   "metadata": {},
   "outputs": [
    {
     "name": "stdout",
     "output_type": "stream",
     "text": [
      "The first number is: 1\n",
      "The second number is: 10\n",
      "The average of the even numbers is  5.0\n"
     ]
    },
    {
     "data": {
      "text/plain": [
       "5.0"
      ]
     },
     "execution_count": 2,
     "metadata": {},
     "output_type": "execute_result"
    }
   ],
   "source": [
    "# method 1\n",
    "def avr_even_num(num_1,num_2):\n",
    "    total = 0\n",
    "    even = [i for i in range(num_1,num_2) if i % 2 == 0]\n",
    "    for i in even :\n",
    "        total += i\n",
    "    avr = total / len(even)\n",
    "    print(\"The average of the even numbers is \", avr)\n",
    "    return avr\n",
    "\n",
    "num_1 = int(input(\"The first number is: \"))\n",
    "num_2 = int(input(\"The second number is: \"))\n",
    "\n",
    "avr_even_num(num_1, num_2)"
   ]
  },
  {
   "cell_type": "code",
   "execution_count": 3,
   "metadata": {},
   "outputs": [
    {
     "name": "stdout",
     "output_type": "stream",
     "text": [
      "The first number is: 1\n",
      "The second number is: 10\n",
      "The average of the even numbers is  5.0\n"
     ]
    }
   ],
   "source": [
    "# method 2\n",
    "\n",
    "def even(num):\n",
    "    return num % 2 == 0\n",
    "\n",
    "summ = 0\n",
    "count = 0\n",
    "\n",
    "a = int(input(\"The first number is: \"))\n",
    "b = int(input(\"The second number is: \"))\n",
    "\n",
    "for i in range(a,b):\n",
    "    if(even(i)):\n",
    "        summ += i\n",
    "        count += 1\n",
    "        \n",
    "print(\"The average of the even numbers is \", summ/count)"
   ]
  },
  {
   "cell_type": "code",
   "execution_count": null,
   "metadata": {},
   "outputs": [],
   "source": []
  }
 ],
 "metadata": {
  "kernelspec": {
   "display_name": "Python 3",
   "language": "python",
   "name": "python3"
  },
  "language_info": {
   "codemirror_mode": {
    "name": "ipython",
    "version": 3
   },
   "file_extension": ".py",
   "mimetype": "text/x-python",
   "name": "python",
   "nbconvert_exporter": "python",
   "pygments_lexer": "ipython3",
   "version": "3.7.6"
  }
 },
 "nbformat": 4,
 "nbformat_minor": 4
}
