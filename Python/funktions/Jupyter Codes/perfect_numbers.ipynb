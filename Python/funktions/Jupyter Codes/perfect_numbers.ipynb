{
 "cells": [
  {
   "cell_type": "markdown",
   "metadata": {},
   "source": [
    "###  Print the perfect number of numbers from 1 to 1000 on the screen. Write a function that returns whether a number is perfect.\n",
    "If the sum of the divisors of a number equals itself, this number is an excellent number. For example, 6 is an excellent number (1 + 2 + 3 = 6)."
   ]
  },
  {
   "cell_type": "code",
   "execution_count": 24,
   "metadata": {},
   "outputs": [],
   "source": [
    "def perfect(x):\n",
    "    total = 0 \n",
    "    for i in range(1,x):\n",
    "        if x % i == 0:\n",
    "            total += i\n",
    "    return total"
   ]
  },
  {
   "cell_type": "code",
   "execution_count": 25,
   "metadata": {},
   "outputs": [
    {
     "name": "stdout",
     "output_type": "stream",
     "text": [
      "[6, 28, 496]\n"
     ]
    }
   ],
   "source": [
    "my_list = list(range(1,1000))\n",
    "my_sec_list = [i for i in my_list if i == perfect(i)]\n",
    "print(my_sec_list)"
   ]
  },
  {
   "cell_type": "code",
   "execution_count": null,
   "metadata": {},
   "outputs": [],
   "source": []
  }
 ],
 "metadata": {
  "kernelspec": {
   "display_name": "Python 3",
   "language": "python",
   "name": "python3"
  },
  "language_info": {
   "codemirror_mode": {
    "name": "ipython",
    "version": 3
   },
   "file_extension": ".py",
   "mimetype": "text/x-python",
   "name": "python",
   "nbconvert_exporter": "python",
   "pygments_lexer": "ipython3",
   "version": "3.7.6"
  }
 },
 "nbformat": 4,
 "nbformat_minor": 4
}
