{
 "cells": [
  {
   "cell_type": "markdown",
   "metadata": {},
   "source": [
    "### **Kwargs"
   ]
  },
  {
   "cell_type": "code",
   "execution_count": 1,
   "metadata": {},
   "outputs": [],
   "source": [
    "# Method 1\n",
    "\n",
    "def organizer(**kwargs):\n",
    "    names = [i for i in kwargs.keys()]\n",
    "    ages = [i for i in kwargs.values()]\n",
    "    \n",
    "    print(\"names = \",names)\n",
    "    print(\"ages =\", ages)"
   ]
  },
  {
   "cell_type": "code",
   "execution_count": 2,
   "metadata": {},
   "outputs": [
    {
     "name": "stdout",
     "output_type": "stream",
     "text": [
      "names =  ['Ahmet', 'Mehmet', 'Tulin', 'Fatma']\n",
      "ages = [33, 22, 44, 2]\n"
     ]
    }
   ],
   "source": [
    "organizer(Ahmet = 33, Mehmet = 22, Tulin = 44, Fatma = 2)"
   ]
  },
  {
   "cell_type": "code",
   "execution_count": 5,
   "metadata": {},
   "outputs": [],
   "source": [
    "# Method 2\n",
    "\n",
    "def organizer(**people):\n",
    "    name = []\n",
    "    age = []\n",
    "    for key, value in people.items():\n",
    "        name.append(key)\n",
    "        age.append(value)\n",
    "    print(\"name = \",name)\n",
    "    print(\"age =\", age)"
   ]
  },
  {
   "cell_type": "code",
   "execution_count": 6,
   "metadata": {},
   "outputs": [
    {
     "name": "stdout",
     "output_type": "stream",
     "text": [
      "name =  ['Ahmet', 'Mehmet', 'Tulin', 'Fatma']\n",
      "age = [33, 22, 44, 2]\n"
     ]
    }
   ],
   "source": [
    "organizer(Ahmet = 33, Mehmet = 22, Tulin = 44, Fatma = 2)"
   ]
  },
  {
   "cell_type": "code",
   "execution_count": null,
   "metadata": {},
   "outputs": [],
   "source": []
  }
 ],
 "metadata": {
  "kernelspec": {
   "display_name": "Python 3",
   "language": "python",
   "name": "python3"
  },
  "language_info": {
   "codemirror_mode": {
    "name": "ipython",
    "version": 3
   },
   "file_extension": ".py",
   "mimetype": "text/x-python",
   "name": "python",
   "nbconvert_exporter": "python",
   "pygments_lexer": "ipython3",
   "version": "3.7.6"
  }
 },
 "nbformat": 4,
 "nbformat_minor": 4
}
