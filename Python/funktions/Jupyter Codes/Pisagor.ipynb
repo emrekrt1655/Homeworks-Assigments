{
 "cells": [
  {
   "cell_type": "markdown",
   "metadata": {},
   "source": [
    "### Write a function that prints the numbers from 1 to 100 that make up the Pythagorean triangle on the screen. "
   ]
  },
  {
   "cell_type": "code",
   "execution_count": 21,
   "metadata": {},
   "outputs": [],
   "source": [
    "\n",
    "def pisagor(a):\n",
    "    my_list = list(range(1, a + 1))\n",
    "    my_sec_list = []\n",
    "    my_thi_list = []\n",
    "    my_fourth_list = []\n",
    "    my_fifth_list = []\n",
    "    \n",
    "    for i in my_list:\n",
    "        for j in my_list:\n",
    "            if str((i**2 + j**2) ** 0.5)[-1] == \"0\" :\n",
    "                my_sec_list.append(i)\n",
    "                my_thi_list.append(j)\n",
    "                my_fourth_list.append(int((i**2+j**2)**0.5))\n",
    "    \n",
    "    \n",
    "        \n",
    "    \n",
    "    d = (zip(my_sec_list,my_thi_list))\n",
    "    e = dict(zip(d,my_fourth_list))\n",
    "    e = dict(sorted(e.items(), key = lambda item : item[1]))\n",
    "    temp=[]\n",
    "    res = dict()\n",
    "    for key,val in e.items():\n",
    "        if val not in temp:\n",
    "            temp.append(val)\n",
    "            res[key]=val\n",
    "    print(res)\n",
    "    "
   ]
  },
  {
   "cell_type": "code",
   "execution_count": 22,
   "metadata": {},
   "outputs": [
    {
     "name": "stdout",
     "output_type": "stream",
     "text": [
      "{(3, 4): 5, (6, 8): 10, (5, 12): 13, (9, 12): 15, (8, 15): 17, (12, 16): 20, (7, 24): 25, (10, 24): 26, (20, 21): 29, (18, 24): 30, (16, 30): 34, (21, 28): 35, (12, 35): 37, (15, 36): 39, (24, 32): 40, (9, 40): 41, (27, 36): 45, (14, 48): 50, (24, 45): 51, (20, 48): 52, (28, 45): 53, (33, 44): 55, (40, 42): 58, (36, 48): 60, (11, 60): 61, (16, 63): 65, (32, 60): 68, (42, 56): 70, (48, 55): 73, (24, 70): 74, (21, 72): 75, (30, 72): 78, (48, 64): 80, (18, 80): 82, (13, 84): 85, (60, 63): 87, (39, 80): 89, (54, 72): 90, (35, 84): 91, (57, 76): 95, (65, 72): 97, (28, 96): 100, (20, 99): 101, (48, 90): 102, (40, 96): 104, (63, 84): 105, (56, 90): 106, (60, 91): 109, (66, 88): 110, (69, 92): 115, (80, 84): 116, (72, 96): 120, (75, 100): 125}\n"
     ]
    }
   ],
   "source": [
    "pisagor(100)"
   ]
  },
  {
   "cell_type": "code",
   "execution_count": null,
   "metadata": {},
   "outputs": [],
   "source": []
  }
 ],
 "metadata": {
  "kernelspec": {
   "display_name": "Python 3",
   "language": "python",
   "name": "python3"
  },
  "language_info": {
   "codemirror_mode": {
    "name": "ipython",
    "version": 3
   },
   "file_extension": ".py",
   "mimetype": "text/x-python",
   "name": "python",
   "nbconvert_exporter": "python",
   "pygments_lexer": "ipython3",
   "version": "3.7.6"
  }
 },
 "nbformat": 4,
 "nbformat_minor": 4
}
