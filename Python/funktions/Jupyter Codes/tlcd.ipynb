{
 "cells": [
  {
   "cell_type": "markdown",
   "metadata": {},
   "source": [
    "### Write a function that returns the largest common divisor  of these numbers, taking 2 numbers from the user."
   ]
  },
  {
   "cell_type": "code",
   "execution_count": 1,
   "metadata": {},
   "outputs": [],
   "source": [
    "def tlcd(a, b):\n",
    "    a_list = list()\n",
    "    b_list = list()\n",
    "    c_list = list()\n",
    "    for i in range(1, a+1):\n",
    "        if a % i == 0 :\n",
    "            a_list.append(i)\n",
    "    for j in range(1, b+1):\n",
    "        if b % j == 0 :\n",
    "            b_list.append(j)\n",
    "    for k in a_list :\n",
    "        if k in b_list:\n",
    "            c_list.append(k)\n",
    "    \n",
    "    return max(c_list)\n",
    "            \n",
    "        "
   ]
  },
  {
   "cell_type": "code",
   "execution_count": 2,
   "metadata": {},
   "outputs": [
    {
     "data": {
      "text/plain": [
       "3"
      ]
     },
     "execution_count": 2,
     "metadata": {},
     "output_type": "execute_result"
    }
   ],
   "source": [
    "tlcd(3, 9)"
   ]
  },
  {
   "cell_type": "code",
   "execution_count": null,
   "metadata": {},
   "outputs": [],
   "source": []
  }
 ],
 "metadata": {
  "kernelspec": {
   "display_name": "Python 3",
   "language": "python",
   "name": "python3"
  },
  "language_info": {
   "codemirror_mode": {
    "name": "ipython",
    "version": 3
   },
   "file_extension": ".py",
   "mimetype": "text/x-python",
   "name": "python",
   "nbconvert_exporter": "python",
   "pygments_lexer": "ipython3",
   "version": "3.7.6"
  }
 },
 "nbformat": 4,
 "nbformat_minor": 4
}
