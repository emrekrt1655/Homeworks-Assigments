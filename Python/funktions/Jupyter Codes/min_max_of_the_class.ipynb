{
 "cells": [
  {
   "cell_type": "markdown",
   "metadata": {},
   "source": [
    "### Write a Python code that finds the students who have maximum and minimum average at a given dictionary below.\n",
    "{'Student-1': {'Lesson-1': 57, 'Lesson-2': 46, 'Lesson-3': 58, 'Lesson-4': 81, 'Lesson-5': 85}, 'Student-2': {'Lesson-1': 85, 'Lesson-2': 56, 'Lesson-3': 51, 'Lesson-4': 69, 'Lesson-5': 67}, 'Student-3': {'Lesson-1': 68, 'Lesson-2': 76, 'Lesson-3': 87, 'Lesson-4': 57, 'Lesson-5': 56}, 'Student-4': {'Lesson-1': 78, 'Lesson-2': 93, 'Lesson-3': 88, 'Lesson-4': 38, 'Lesson-5': 54}, 'Student-5': {'Lesson-1': 50, 'Lesson-2': 46, 'Lesson-3': 78, 'Lesson-4': 81, 'Lesson-5': 75}}"
   ]
  },
  {
   "cell_type": "code",
   "execution_count": 1,
   "metadata": {},
   "outputs": [],
   "source": [
    "the_sco_class = {'Student-1': {'Lesson-1': 57, 'Lesson-2': 46, 'Lesson-3': 58, 'Lesson-4': 81, 'Lesson-5': 85}, 'Student-2': {'Lesson-1': 85, 'Lesson-2': 56, 'Lesson-3': 51, 'Lesson-4': 69, 'Lesson-5': 67}, 'Student-3': {'Lesson-1': 68, 'Lesson-2': 76, 'Lesson-3': 87, 'Lesson-4': 57, 'Lesson-5': 56}, 'Student-4': {'Lesson-1': 78, 'Lesson-2': 93, 'Lesson-3': 88, 'Lesson-4': 38, 'Lesson-5': 54}, 'Student-5': {'Lesson-1': 50, 'Lesson-2': 46, 'Lesson-3': 78, 'Lesson-4': 81, 'Lesson-5': 75}}\n",
    "the_stu_list = [\"Student 1\", \"Student 2\", \"Student 3\", \"Student 4\", \"Student 5\" ]\n",
    "the_score_list =[]\n",
    "\n",
    "    "
   ]
  },
  {
   "cell_type": "code",
   "execution_count": 2,
   "metadata": {},
   "outputs": [],
   "source": [
    "avr_std_1 = (the_sco_class['Student-1'])\n",
    "avr_std_2 = (the_sco_class['Student-2'])\n",
    "avr_std_3 = (the_sco_class['Student-3'])\n",
    "avr_std_4 = (the_sco_class['Student-4'])\n",
    "avr_std_5 = (the_sco_class['Student-5'])\n",
    "\n",
    "avr_std_1 = list(avr_std_1.values())\n",
    "avr_std_2 = list(avr_std_2.values())\n",
    "avr_std_3 = list(avr_std_3.values())\n",
    "avr_std_4 = list(avr_std_4.values())\n",
    "avr_std_5 = list(avr_std_5.values())"
   ]
  },
  {
   "cell_type": "code",
   "execution_count": 3,
   "metadata": {},
   "outputs": [],
   "source": [
    "def avr(a):\n",
    "    summ = 0\n",
    "    for i in a:\n",
    "        summ += i / len(a)\n",
    "    return the_score_list.append(summ)\n",
    "        "
   ]
  },
  {
   "cell_type": "code",
   "execution_count": 4,
   "metadata": {},
   "outputs": [],
   "source": [
    "avr(avr_std_1)\n",
    "avr(avr_std_2)\n",
    "avr(avr_std_3)\n",
    "avr(avr_std_4)\n",
    "avr(avr_std_5)\n"
   ]
  },
  {
   "cell_type": "code",
   "execution_count": 5,
   "metadata": {},
   "outputs": [
    {
     "name": "stdout",
     "output_type": "stream",
     "text": [
      "The minumum average of the class is below :  \n",
      "('Student 1', 65.4)\n",
      " \n",
      "The maximum average of the class is below :  \n",
      "('Student 4', 70.2)\n"
     ]
    }
   ],
   "source": [
    "the_last_dict = dict(zip(the_stu_list, the_score_list))\n",
    "the_last_dict = sorted(the_last_dict.items(), key=lambda x: x[1])\n",
    "\n",
    "print(\"The minumum average of the class is below :  \")  \n",
    "print((the_last_dict)[0])\n",
    "print (\" \")\n",
    "print(\"The maximum average of the class is below :  \")  \n",
    "print((the_last_dict)[-1])"
   ]
  },
  {
   "cell_type": "code",
   "execution_count": null,
   "metadata": {},
   "outputs": [],
   "source": []
  }
 ],
 "metadata": {
  "kernelspec": {
   "display_name": "Python 3",
   "language": "python",
   "name": "python3"
  },
  "language_info": {
   "codemirror_mode": {
    "name": "ipython",
    "version": 3
   },
   "file_extension": ".py",
   "mimetype": "text/x-python",
   "name": "python",
   "nbconvert_exporter": "python",
   "pygments_lexer": "ipython3",
   "version": "3.7.6"
  }
 },
 "nbformat": 4,
 "nbformat_minor": 4
}
