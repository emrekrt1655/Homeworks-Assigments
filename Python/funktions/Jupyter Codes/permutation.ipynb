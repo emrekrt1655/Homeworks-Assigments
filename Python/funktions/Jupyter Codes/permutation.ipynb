{
 "cells": [
  {
   "cell_type": "markdown",
   "metadata": {},
   "source": [
    "###  Define a “function” to calculate permutation of 2 numbers.\n",
    "Reminder: P(n,r) = n!/(n-r)!\n",
    "Clue: Defining a function that calculates factorial of given number, may be helpful.\n",
    " \n"
   ]
  },
  {
   "cell_type": "code",
   "execution_count": 9,
   "metadata": {},
   "outputs": [
    {
     "name": "stdout",
     "output_type": "stream",
     "text": [
      "please enter the numbers in order to calculate the permutation\n",
      "n: 5\n",
      "r: 3\n",
      "The permutation of (5,3) is 60.0 \n"
     ]
    },
    {
     "data": {
      "text/plain": [
       "60.0"
      ]
     },
     "execution_count": 9,
     "metadata": {},
     "output_type": "execute_result"
    }
   ],
   "source": [
    "# Method 1\n",
    "def permutation(n, r):\n",
    "    n_fac = 1\n",
    "    r_fac = 1\n",
    "    if n < r :\n",
    "        print(\"Invalid entry. n must be \\\n",
    "        higher than r\")\n",
    "        return False\n",
    "    else:\n",
    "        for i in range(1, n + 1):\n",
    "            n_fac *= i\n",
    "        for i in range(1, n- r + 1):\n",
    "            r_fac *= i\n",
    "            \n",
    "    print(\"The permutation of ({},{}) is {} \".format(n,r, n_fac / r_fac))\n",
    "    return n_fac / r_fac\n",
    "\n",
    "print(\"please enter the numbers in order to calculate the permutation\")\n",
    "n = int(input(\"n: \"))\n",
    "r = int(input(\"r: \"))\n",
    "\n",
    "permutation(n, r)"
   ]
  },
  {
   "cell_type": "code",
   "execution_count": 10,
   "metadata": {},
   "outputs": [
    {
     "name": "stdout",
     "output_type": "stream",
     "text": [
      "l: 5\n",
      "m: 3\n",
      "The permutation of (5,3) is 60.0 \n"
     ]
    },
    {
     "data": {
      "text/plain": [
       "60.0"
      ]
     },
     "execution_count": 10,
     "metadata": {},
     "output_type": "execute_result"
    }
   ],
   "source": [
    "# method 2\n",
    "\n",
    "def fac(k):\n",
    "    fact = 1\n",
    "    for i in range(1, k+1):\n",
    "        fact *= i\n",
    "    return fact\n",
    "\n",
    "def per(l, m):\n",
    "    if l < m :\n",
    "        print(\"Invalid entry. l must be \\\n",
    "        higher than m\")\n",
    "        return False\n",
    "    else:\n",
    "        result = fac(l) / fac(l - m)\n",
    "    print(\"The permutation of ({},{}) is {} \".format(l, m, result))\n",
    "    return result\n",
    "\n",
    "l = int(input(\"l: \"))\n",
    "m = int(input(\"m: \"))\n",
    "\n",
    "per(l, m)"
   ]
  },
  {
   "cell_type": "code",
   "execution_count": null,
   "metadata": {},
   "outputs": [],
   "source": []
  }
 ],
 "metadata": {
  "kernelspec": {
   "display_name": "Python 3",
   "language": "python",
   "name": "python3"
  },
  "language_info": {
   "codemirror_mode": {
    "name": "ipython",
    "version": 3
   },
   "file_extension": ".py",
   "mimetype": "text/x-python",
   "name": "python",
   "nbconvert_exporter": "python",
   "pygments_lexer": "ipython3",
   "version": "3.7.6"
  }
 },
 "nbformat": 4,
 "nbformat_minor": 4
}
