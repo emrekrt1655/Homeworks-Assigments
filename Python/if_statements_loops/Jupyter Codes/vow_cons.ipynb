{
 "cells": [
  {
   "cell_type": "markdown",
   "metadata": {},
   "source": [
    "### Write a Python code that counts how many vowels and constants a string has that a user entered. "
   ]
  },
  {
   "cell_type": "code",
   "execution_count": 2,
   "metadata": {},
   "outputs": [
    {
     "name": "stdout",
     "output_type": "stream",
     "text": [
      "In order to calculate how many vowels and constants in given word\n",
      "Please enter a wordclarusway\n",
      "the numbers of vowels in clarusway 3\n",
      "the numbers of constants in clarusway 6\n"
     ]
    }
   ],
   "source": [
    "print(\"In order to calculate how many vowels and constants in given word\")\n",
    "word = input(\"Please enter a word\")\n",
    "vowel = [\"a\",\"e\",\"i\",\"o\",\"u\"]\n",
    "count_vowel = 0\n",
    "count_constant = 0\n",
    "\n",
    "\n",
    "for i in word :\n",
    "    if i in vowel:\n",
    "        count_vowel += 1\n",
    "    else :\n",
    "        count_constant += 1\n",
    "        \n",
    "print(\"the numbers of vowels in\", word, count_vowel)\n",
    "print(\"the numbers of constants in\", word, count_constant)\n",
    "        "
   ]
  },
  {
   "cell_type": "code",
   "execution_count": null,
   "metadata": {},
   "outputs": [],
   "source": []
  }
 ],
 "metadata": {
  "kernelspec": {
   "display_name": "Python 3",
   "language": "python",
   "name": "python3"
  },
  "language_info": {
   "codemirror_mode": {
    "name": "ipython",
    "version": 3
   },
   "file_extension": ".py",
   "mimetype": "text/x-python",
   "name": "python",
   "nbconvert_exporter": "python",
   "pygments_lexer": "ipython3",
   "version": "3.7.6"
  }
 },
 "nbformat": 4,
 "nbformat_minor": 4
}
