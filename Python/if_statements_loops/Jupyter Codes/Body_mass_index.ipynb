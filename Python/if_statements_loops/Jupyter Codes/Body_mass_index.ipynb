{
 "cells": [
  {
   "cell_type": "markdown",
   "metadata": {},
   "source": [
    "### Calculate the body mass index according to the height and weight values received from the user and print the following text on the screen according to the following rules.\n",
    "\n",
    "\n",
    "If the BMI is below 18.5 -------> Weak\n",
    "\n",
    "If the BMI is between 18.5 and 25 ------> Normal\n",
    "\n",
    "If the BMI is between 25 and 30 --------> Overweight\n",
    "\n",
    "If the BMI is over 30 -------------> Obese"
   ]
  },
  {
   "cell_type": "code",
   "execution_count": 7,
   "metadata": {},
   "outputs": [
    {
     "name": "stdout",
     "output_type": "stream",
     "text": [
      "Please enter your height as centimeter: 174\n",
      "Please enter yoru weight: 72.2\n",
      "23.85  :  Normal\n"
     ]
    }
   ],
   "source": [
    "height = float(input(\"Please enter your height as centimeter: \"))\n",
    "weight = float(input(\"Please enter yoru weight: \"))\n",
    "\n",
    "bmi = weight / ((height/100) ** 2)\n",
    "bmi = round(bmi, 2)\n",
    "\n",
    "if bmi < 18.5 :\n",
    "    print(bmi, \" : \", \"Weak\")\n",
    "elif  18.5 <= bmi < 25 :\n",
    "    print(bmi, \" : \", \"Normal\")\n",
    "elif 25 <= bmi < 30 :\n",
    "    print(bmi, \" : \", \"Overweight\")\n",
    "else:\n",
    "    print(bmi, \" : \", \"Obese\")"
   ]
  },
  {
   "cell_type": "code",
   "execution_count": null,
   "metadata": {},
   "outputs": [],
   "source": []
  }
 ],
 "metadata": {
  "kernelspec": {
   "display_name": "Python 3",
   "language": "python",
   "name": "python3"
  },
  "language_info": {
   "codemirror_mode": {
    "name": "ipython",
    "version": 3
   },
   "file_extension": ".py",
   "mimetype": "text/x-python",
   "name": "python",
   "nbconvert_exporter": "python",
   "pygments_lexer": "ipython3",
   "version": "3.7.6"
  }
 },
 "nbformat": 4,
 "nbformat_minor": 4
}
