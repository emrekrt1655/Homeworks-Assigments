{
 "cells": [
  {
   "cell_type": "code",
   "execution_count": 1,
   "metadata": {},
   "outputs": [],
   "source": [
    "### Task : Let's say you left a message in the past that prints a password you need. To see the password you wrote, you need to enter your name and the program should recognize you.\n",
    "#Write a program that \n",
    "\n",
    "#Takes the first name from the user and compares it to yours,\n",
    "#Then if the name the user entered is the same as yours, print out such as : \"Hello, Joseph! The password is : W@12\",\n",
    "#If the name the user entered is not the same as yours, print out such as : \"Hello, Amina! See you later.\""
   ]
  },
  {
   "cell_type": "code",
   "execution_count": 1,
   "metadata": {},
   "outputs": [
    {
     "name": "stdout",
     "output_type": "stream",
     "text": [
      " ********** \n",
      "\n",
      "Welcome to Clarusway\n",
      "\n",
      "**********\n",
      "\n",
      "Please enter your name: Emre\n",
      "Hello, Emre See you later.\n"
     ]
    }
   ],
   "source": [
    "print(\"\"\" ********** \n",
    "\n",
    "Welcome to Clarusway\n",
    "\n",
    "**********\n",
    "\"\"\")\n",
    "\n",
    "sys_name = \"Joseph\"\n",
    "\n",
    "name = input(\"Please enter your name: \")\n",
    "name = name.title()\n",
    "\n",
    "if sys_name == name :\n",
    "    print(\"Hello, Joseph! The Password is : W@12\")\n",
    "else:\n",
    "    print(\"Hello, {} See you later.\".format(name))"
   ]
  },
  {
   "cell_type": "code",
   "execution_count": null,
   "metadata": {},
   "outputs": [],
   "source": []
  }
 ],
 "metadata": {
  "kernelspec": {
   "display_name": "Python 3",
   "language": "python",
   "name": "python3"
  },
  "language_info": {
   "codemirror_mode": {
    "name": "ipython",
    "version": 3
   },
   "file_extension": ".py",
   "mimetype": "text/x-python",
   "name": "python",
   "nbconvert_exporter": "python",
   "pygments_lexer": "ipython3",
   "version": "3.7.6"
  }
 },
 "nbformat": 4,
 "nbformat_minor": 4
}
