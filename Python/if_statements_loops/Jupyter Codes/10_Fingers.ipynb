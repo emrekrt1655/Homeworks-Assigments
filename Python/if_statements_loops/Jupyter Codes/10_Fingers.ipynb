{
 "cells": [
  {
   "cell_type": "code",
   "execution_count": 2,
   "metadata": {},
   "outputs": [
    {
     "name": "stdout",
     "output_type": "stream",
     "text": [
      "Please enter a word: Bursa\n",
      "True\n"
     ]
    }
   ],
   "source": [
    "left =set(\"qwertasdfgzxcv\")\n",
    "right =set(\"yuıophjklnm\")\n",
    "\n",
    "word = input(\"Please enter a word: \")\n",
    "set_word = set(word)\n",
    "\n",
    "left_bool = bool(set_word.difference(left))\n",
    "rigth_bool = bool(set_word.difference(right))\n",
    "print(left_bool and rigth_bool)"
   ]
  },
  {
   "cell_type": "code",
   "execution_count": null,
   "metadata": {},
   "outputs": [],
   "source": []
  }
 ],
 "metadata": {
  "kernelspec": {
   "display_name": "Python 3",
   "language": "python",
   "name": "python3"
  },
  "language_info": {
   "codemirror_mode": {
    "name": "ipython",
    "version": 3
   },
   "file_extension": ".py",
   "mimetype": "text/x-python",
   "name": "python",
   "nbconvert_exporter": "python",
   "pygments_lexer": "ipython3",
   "version": "3.7.6"
  }
 },
 "nbformat": 4,
 "nbformat_minor": 4
}
