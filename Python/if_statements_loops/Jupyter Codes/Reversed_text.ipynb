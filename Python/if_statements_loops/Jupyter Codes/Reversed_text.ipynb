{
 "cells": [
  {
   "cell_type": "markdown",
   "metadata": {},
   "source": [
    "### Please reverse the text below without using text indexing methods. Please create a loop for solution.  text = “Clarusway”"
   ]
  },
  {
   "cell_type": "code",
   "execution_count": 4,
   "metadata": {},
   "outputs": [
    {
     "name": "stdout",
     "output_type": "stream",
     "text": [
      "yawsuralC\n"
     ]
    }
   ],
   "source": [
    "# Method 1\n",
    "text = \"Clarusway\"\n",
    "reversed_text = \"\"\n",
    "index = len(text)\n",
    "\n",
    "while index > 0:\n",
    "    reversed_text += text[index-1]\n",
    "    index = index - 1\n",
    "print(reversed_text)"
   ]
  },
  {
   "cell_type": "code",
   "execution_count": 3,
   "metadata": {},
   "outputs": [
    {
     "name": "stdout",
     "output_type": "stream",
     "text": [
      "yawsuralC\n"
     ]
    }
   ],
   "source": [
    "# Method 2\n",
    "text = \"Clarusway\"\n",
    "newtext = \"\"\n",
    "for i in range(len(text)-1, -1, -1):\n",
    "   newtext += text[i]\n",
    "print(newtext)"
   ]
  },
  {
   "cell_type": "code",
   "execution_count": null,
   "metadata": {},
   "outputs": [],
   "source": []
  }
 ],
 "metadata": {
  "kernelspec": {
   "display_name": "Python 3",
   "language": "python",
   "name": "python3"
  },
  "language_info": {
   "codemirror_mode": {
    "name": "ipython",
    "version": 3
   },
   "file_extension": ".py",
   "mimetype": "text/x-python",
   "name": "python",
   "nbconvert_exporter": "python",
   "pygments_lexer": "ipython3",
   "version": "3.7.6"
  }
 },
 "nbformat": 4,
 "nbformat_minor": 4
}
