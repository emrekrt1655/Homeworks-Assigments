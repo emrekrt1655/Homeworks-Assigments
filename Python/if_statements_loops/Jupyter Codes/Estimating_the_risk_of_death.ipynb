{
 "cells": [
  {
   "cell_type": "markdown",
   "metadata": {},
   "source": [
    "### Task : Estimating the risk of death from coronavirus. Write a program that;\n",
    "\n",
    "Takes \"Yes\" or \"No\" from the user as an answer to the following questions :\n",
    "\n",
    "Are you a cigarette addict older than 75 years old? Variable → age\n",
    "\n",
    "Do you have a severe chronic disease? Variable → chronic\n",
    "\n",
    "Is your immune system too weak? Variable → immune\n",
    "\n",
    "Set a logical algorithm using boolean logic operators (and/or)  and use if-statements with the given variables in order to print out us a message : \"You are in risky group\"(if True ) or \"You are not in risky group\" (if False).)"
   ]
  },
  {
   "cell_type": "code",
   "execution_count": 1,
   "metadata": {},
   "outputs": [
    {
     "name": "stdout",
     "output_type": "stream",
     "text": [
      "\n",
      "***********\n",
      "\n",
      "Are You in a risk group or not?\n",
      "\n",
      "Please answer the questions as YES or NO\n",
      "\n",
      "************\n",
      "\n",
      "Are you a cigarette addict older than 75 years old? Yes\n",
      "Do you have a severe chronic disease? yes\n",
      "Is your immune system too weak? yes\n",
      "You are in risky group\n"
     ]
    }
   ],
   "source": [
    "print(\"\"\"\n",
    "***********\n",
    "\n",
    "Are You in a risk group or not?\n",
    "\n",
    "Please answer the questions as YES or NO\n",
    "\n",
    "************\n",
    "\"\"\")\n",
    "\n",
    "age = input(\"Are you a cigarette addict older than 75 years old? \")\n",
    "age = age.title()\n",
    "chronic = input(\"Do you have a severe chronic disease? \")\n",
    "chronic = chronic.title()\n",
    "immune = input(\"Is your immune system too weak? \")\n",
    "immune = immune.title()\n",
    "\n",
    "\n",
    "if (age == \"Yes\") and (chronic == \"Yes\") and (immune == \"Yes\"):\n",
    "\n",
    "    print(\"You are in risky group\")\n",
    "\n",
    "elif ((age == \"Yes\" and chronic == \"Yes\") or immune == \"Yes\") and ((age == \"Yes\" and immune == \"Yes\") or chronic == \"Yes\" ) and ((chronic == \"Yes\" and immune == \"Yes\") or age == \"Yes\"):\n",
    "    \n",
    "    print((\"You are in quitely risky group\"))\n",
    "\n",
    "else:\n",
    "    \n",
    "    print(\"you are not in risky group\")\n"
   ]
  },
  {
   "cell_type": "code",
   "execution_count": null,
   "metadata": {},
   "outputs": [],
   "source": []
  },
  {
   "cell_type": "code",
   "execution_count": null,
   "metadata": {},
   "outputs": [],
   "source": []
  }
 ],
 "metadata": {
  "kernelspec": {
   "display_name": "Python 3",
   "language": "python",
   "name": "python3"
  },
  "language_info": {
   "codemirror_mode": {
    "name": "ipython",
    "version": 3
   },
   "file_extension": ".py",
   "mimetype": "text/x-python",
   "name": "python",
   "nbconvert_exporter": "python",
   "pygments_lexer": "ipython3",
   "version": "3.7.6"
  }
 },
 "nbformat": 4,
 "nbformat_minor": 4
}
