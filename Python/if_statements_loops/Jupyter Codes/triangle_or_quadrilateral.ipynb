{
 "cells": [
  {
   "cell_type": "markdown",
   "metadata": {},
   "source": [
    "### Now let's do the geometric shape calculation. First, ask the user if he wants to find the type of triangle or quadrilateral.\n",
    "\n",
    "If the user replies \"Rectangle\", ask for 4 edges and try to find out if this rectangle is a square, rectangle, or an ordinary quadrilateral.\n",
    "\n",
    "If the user replies \"Triangle\", ask for 3 edges and try to find out whether this triangle is equilateral triangle, isosceles triangle or is an ordinary triangle. If the given edges do not specify a triangle, write \"No triangle\" on the screen.\n",
    "\n",
    "If you do not know the condition of specifying a triangle, you can look online.\n",
    "\n",
    "You will also need to find absolute value in this problem. For this, you can use the abs () function, which is a Pythonda ready function. Usage is as follows;"
   ]
  },
  {
   "cell_type": "code",
   "execution_count": 19,
   "metadata": {},
   "outputs": [
    {
     "name": "stdout",
     "output_type": "stream",
     "text": [
      "Please enter which you want to calculate geometric shape Triangle or Quadrilateral: triangle\n",
      "The first edge: 2\n",
      "The second edge: 4\n",
      "The third edge: 1\n",
      "you could not make a triangle with this values\n"
     ]
    }
   ],
   "source": [
    "wanted = input(\"Please enter which you want to calculate geometric shape Triangle or Quadrilateral: \")\n",
    "wanted = wanted.title()\n",
    "if wanted == \"Triangle\" :\n",
    "    a = int(input(\"The first edge: \"))\n",
    "    b = int(input(\"The second edge: \"))\n",
    "    c = int(input(\"The third edge: \"))\n",
    "    if (abs(a-b) < c < abs(a+b)) or (abs(a-c) < b < abs(a+c)) or (abs(b-c) < a < abs(c+b))  :  \n",
    "        if a == b and a == c :\n",
    "            print(\"This is an equilateral triangle\")\n",
    "        elif a == b or a == c or b == c :\n",
    "            print(\"This is an isosceles triangle\")\n",
    "        else:\n",
    "            print(\"This is an ordinary triangle\")\n",
    "    else:\n",
    "        print(\"you could not make a triangle with this values\")\n",
    "    \n",
    "        \n",
    "elif wanted == \"Quadrilateral\":\n",
    "    k = int(input(\"The first edge: \"))\n",
    "    l = int(input(\"The second edge: \"))\n",
    "    m = int(input(\"The third edge: \"))\n",
    "    n = int(input(\"The fourth edge: \"))\n",
    "    if k == l and k == m and k == n :\n",
    "        print(\"This is a square\")\n",
    "    elif (k == l and m == n) or (k == m and l == n) or (k == n and m == l):\n",
    "        print(\"This is a rectangle\")\n",
    "    else:\n",
    "        print(\"This is an ordinary quadrilateral\")\n",
    "else:\n",
    "    print(\"There is an invalid entry\")\n",
    "    "
   ]
  },
  {
   "cell_type": "code",
   "execution_count": null,
   "metadata": {},
   "outputs": [],
   "source": []
  }
 ],
 "metadata": {
  "kernelspec": {
   "display_name": "Python 3",
   "language": "python",
   "name": "python3"
  },
  "language_info": {
   "codemirror_mode": {
    "name": "ipython",
    "version": 3
   },
   "file_extension": ".py",
   "mimetype": "text/x-python",
   "name": "python",
   "nbconvert_exporter": "python",
   "pygments_lexer": "ipython3",
   "version": "3.7.6"
  }
 },
 "nbformat": 4,
 "nbformat_minor": 4
}
