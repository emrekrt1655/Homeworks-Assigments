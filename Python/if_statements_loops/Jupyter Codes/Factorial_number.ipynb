{
 "cells": [
  {
   "cell_type": "markdown",
   "metadata": {},
   "source": [
    "### Q:Write a code to calculate factorial of a number entered by user. "
   ]
  },
  {
   "cell_type": "code",
   "execution_count": 1,
   "metadata": {},
   "outputs": [
    {
     "name": "stdout",
     "output_type": "stream",
     "text": [
      "Enter a positive digit number8\n",
      "the  factorial of 8 is 40320\n"
     ]
    }
   ],
   "source": [
    "fac = int(input(\"Enter a positive digit number\"))\n",
    "summ = 1\n",
    "\n",
    "if fac == 0 :\n",
    "    print(\"the factorial of number 0 is 1\")\n",
    "\n",
    "for i in range(1,fac+1):\n",
    "    summ *= i\n",
    "print(\"the  factorial of\", fac,\"is\", summ)"
   ]
  },
  {
   "cell_type": "code",
   "execution_count": null,
   "metadata": {},
   "outputs": [],
   "source": []
  }
 ],
 "metadata": {
  "kernelspec": {
   "display_name": "Python 3",
   "language": "python",
   "name": "python3"
  },
  "language_info": {
   "codemirror_mode": {
    "name": "ipython",
    "version": 3
   },
   "file_extension": ".py",
   "mimetype": "text/x-python",
   "name": "python",
   "nbconvert_exporter": "python",
   "pygments_lexer": "ipython3",
   "version": "3.7.6"
  }
 },
 "nbformat": 4,
 "nbformat_minor": 4
}
