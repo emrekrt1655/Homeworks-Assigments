{
 "cells": [
  {
   "cell_type": "code",
   "execution_count": 1,
   "metadata": {},
   "outputs": [
    {
     "name": "stdout",
     "output_type": "stream",
     "text": [
      "the most frequent number is 4 and it was 5 times repeated\n"
     ]
    }
   ],
   "source": [
    "numbers = [1, 2, 3, 7, 4, 3, 4, 4, 4, 4, 0, 3, 16, 3, 7]\n",
    "item = max(numbers, key = numbers.count)\n",
    "\n",
    "repetition = numbers.count(item)\n",
    "print(\"the most frequent number is {} and it was {} times repeated\".format(item, repetition))"
   ]
  },
  {
   "cell_type": "code",
   "execution_count": null,
   "metadata": {},
   "outputs": [],
   "source": []
  }
 ],
 "metadata": {
  "kernelspec": {
   "display_name": "Python 3",
   "language": "python",
   "name": "python3"
  },
  "language_info": {
   "codemirror_mode": {
    "name": "ipython",
    "version": 3
   },
   "file_extension": ".py",
   "mimetype": "text/x-python",
   "name": "python",
   "nbconvert_exporter": "python",
   "pygments_lexer": "ipython3",
   "version": "3.7.6"
  }
 },
 "nbformat": 4,
 "nbformat_minor": 4
}
