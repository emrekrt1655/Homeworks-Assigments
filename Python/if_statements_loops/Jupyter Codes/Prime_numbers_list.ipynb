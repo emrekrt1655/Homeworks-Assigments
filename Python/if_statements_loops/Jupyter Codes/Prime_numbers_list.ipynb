{
 "cells": [
  {
   "cell_type": "markdown",
   "metadata": {},
   "source": [
    "### Task : Print the prime numbers which are between 1 to entered limit number (n).\n",
    "\n",
    "You can use a nested for loop.\n",
    "Collect all these numbers into a list\n",
    "The desired output for n=100 :"
   ]
  },
  {
   "cell_type": "code",
   "execution_count": 1,
   "metadata": {},
   "outputs": [
    {
     "name": "stdout",
     "output_type": "stream",
     "text": [
      "Please enter a digit number in order to creat a prime list until this number: 100\n",
      "[2, 3, 5, 7, 11, 13, 17, 19, 23, 29, 31, 37, 41, 43, 47, 53, 59, 61, 67, 71, 73, 79, 83, 89, 97]\n"
     ]
    }
   ],
   "source": [
    "n= (int(input(\"Please enter a digit number in order to creat a prime list until this number: \")))\n",
    "\n",
    "nat_num = list(range(2,n))\n",
    "\n",
    "not_pri_num = []\n",
    "\n",
    "for i in nat_num :\n",
    "    for j in range(2,i):\n",
    "        if i % j == 0 :\n",
    "            not_pri_num.append(i)\n",
    "\n",
    "nat_num = set(nat_num)\n",
    "\n",
    "not_pri_num = set(not_pri_num)\n",
    "\n",
    "desired = list(nat_num.difference(not_pri_num))\n",
    "\n",
    "print(desired)"
   ]
  },
  {
   "cell_type": "code",
   "execution_count": null,
   "metadata": {},
   "outputs": [],
   "source": []
  }
 ],
 "metadata": {
  "kernelspec": {
   "display_name": "Python 3",
   "language": "python",
   "name": "python3"
  },
  "language_info": {
   "codemirror_mode": {
    "name": "ipython",
    "version": 3
   },
   "file_extension": ".py",
   "mimetype": "text/x-python",
   "name": "python",
   "nbconvert_exporter": "python",
   "pygments_lexer": "ipython3",
   "version": "3.7.6"
  }
 },
 "nbformat": 4,
 "nbformat_minor": 4
}
