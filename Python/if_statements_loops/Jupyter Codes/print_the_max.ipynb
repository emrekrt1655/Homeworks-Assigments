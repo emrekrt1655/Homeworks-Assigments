{
 "cells": [
  {
   "cell_type": "markdown",
   "metadata": {},
   "source": [
    "### Get 3 numbers from the user and print the largest number on the screen."
   ]
  },
  {
   "cell_type": "code",
   "execution_count": 6,
   "metadata": {},
   "outputs": [
    {
     "name": "stdout",
     "output_type": "stream",
     "text": [
      "The first number is: 23\n",
      "The second number is: 24\n",
      "The third number is: 22\n",
      "The largest number is:  24\n"
     ]
    }
   ],
   "source": [
    "# Method 1\n",
    "num_1 = int(input(\"The first number is: \")) \n",
    "num_2 = int(input(\"The second number is: \"))\n",
    "num_3 = int(input(\"The third number is: \"))\n",
    "\n",
    "if num_1 > num_2 and num_1 > num_3 :\n",
    "    print(\"The largest number is: \", num_1)\n",
    "elif num_2 > num_1 and num_2 > num_3 :\n",
    "    print(\"The largest number is: \", num_2)\n",
    "else:\n",
    "    print(\"The largest number is: \", num_3)"
   ]
  },
  {
   "cell_type": "code",
   "execution_count": 9,
   "metadata": {},
   "outputs": [
    {
     "name": "stdout",
     "output_type": "stream",
     "text": [
      "The first number is: 23\n",
      "The second number is: 24\n",
      "The third number is: 22\n",
      "The largest number is:  24\n"
     ]
    }
   ],
   "source": [
    "# Method 2\n",
    "num_1 = int(input(\"The first number is: \")) \n",
    "num_2 = int(input(\"The second number is: \"))\n",
    "num_3 = int(input(\"The third number is: \"))\n",
    "\n",
    "my_list = [num_1, num_2, num_3]\n",
    "\n",
    "my_list = sorted(my_list)\n",
    "print(\"The largest number is: \", my_list[-1])"
   ]
  },
  {
   "cell_type": "code",
   "execution_count": null,
   "metadata": {},
   "outputs": [],
   "source": []
  }
 ],
 "metadata": {
  "kernelspec": {
   "display_name": "Python 3",
   "language": "python",
   "name": "python3"
  },
  "language_info": {
   "codemirror_mode": {
    "name": "ipython",
    "version": 3
   },
   "file_extension": ".py",
   "mimetype": "text/x-python",
   "name": "python",
   "nbconvert_exporter": "python",
   "pygments_lexer": "ipython3",
   "version": "3.7.6"
  }
 },
 "nbformat": 4,
 "nbformat_minor": 4
}
