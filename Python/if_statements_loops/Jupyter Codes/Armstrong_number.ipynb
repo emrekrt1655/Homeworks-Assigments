{
 "cells": [
  {
   "cell_type": "markdown",
   "metadata": {},
   "source": [
    "### Task:\n",
    "\n",
    "Find out if a given number is an \"Armstrong Number\".\n",
    "\n",
    "An n-digit number that is the sum of the nth powers of its digits is called an n-Armstrong number.\n",
    "Examples : 371 = 33 + 73 + 13; 9474 = 94 + 44 + 74 + 44; 93084 = 95 + 35 + 05 + 85 + 45.\n",
    "\n",
    "Write a Python program that; takes a positive integer number from the user, checks the entered number if it is Armstrong, consider the negative, float and any entries other than numeric values then display a warning message to the user."
   ]
  },
  {
   "cell_type": "code",
   "execution_count": 1,
   "metadata": {},
   "outputs": [
    {
     "name": "stdout",
     "output_type": "stream",
     "text": [
      "\n",
      "************\n",
      "\n",
      "Armstrong or not?\n",
      "\n",
      "************\n",
      "\n",
      "Please enter a positive number: 4679307774\n",
      "4679307774 is a armstrong number\n"
     ]
    }
   ],
   "source": [
    "print(\"\"\"\n",
    "************\n",
    "\n",
    "Armstrong or not?\n",
    "\n",
    "************\n",
    "\"\"\")\n",
    "\n",
    "num = input(\"Please enter a positive number: \")\n",
    "\n",
    "total = 0\n",
    "\n",
    "while not num.isdigit():\n",
    "    \n",
    "    print(\"It is an invalid entry. Don't use non-numeric, float, or negative values! \")\n",
    "    \n",
    "    num = input(\"Please enter a positive number: \")\n",
    "    \n",
    "for i in num:\n",
    "    \n",
    "    total += int(i) ** int(len(num))\n",
    "    \n",
    "if total == int(num):\n",
    "    print(total, \"is a armstrong number\")\n",
    "\n",
    "else:\n",
    "    print(num, \"is not a armstrong number\")"
   ]
  },
  {
   "cell_type": "code",
   "execution_count": 2,
   "metadata": {},
   "outputs": [
    {
     "name": "stdout",
     "output_type": "stream",
     "text": [
      "enter a positive number : 4679307774\n",
      "4679307774 is an Armstrong number. \n"
     ]
    }
   ],
   "source": [
    "# Method 2\n",
    "\n",
    "while True:\n",
    "    number = input(\"enter a positive number : \")\n",
    "    digits = len(number)\n",
    "    summ = 0\n",
    "    if not number.isdigit() :\n",
    "        print(number, \"it is an invalid entry. Don't  \\\n",
    "        use non-numeric, float, or negative values!\")\n",
    "    elif int(number) >= 0 :\n",
    "        for i in range(digits):\n",
    "            summ += int(number[i]) ** digits\n",
    "        if summ == int(number) :\n",
    "            print(number, \"is an Armstrong number. \")\n",
    "            break\n",
    "        else:\n",
    "            print(number, \"is not an Armstrong number. \")\n",
    "            break"
   ]
  },
  {
   "cell_type": "code",
   "execution_count": null,
   "metadata": {},
   "outputs": [],
   "source": []
  }
 ],
 "metadata": {
  "kernelspec": {
   "display_name": "Python 3",
   "language": "python",
   "name": "python3"
  },
  "language_info": {
   "codemirror_mode": {
    "name": "ipython",
    "version": 3
   },
   "file_extension": ".py",
   "mimetype": "text/x-python",
   "name": "python",
   "nbconvert_exporter": "python",
   "pygments_lexer": "ipython3",
   "version": "3.7.6"
  }
 },
 "nbformat": 4,
 "nbformat_minor": 4
}
