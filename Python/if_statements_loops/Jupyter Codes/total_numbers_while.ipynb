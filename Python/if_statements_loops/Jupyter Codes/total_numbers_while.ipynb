{
 "cells": [
  {
   "cell_type": "markdown",
   "metadata": {},
   "source": [
    "### Her bir while döngüsünde kullanıcıdan bir sayı alın ve kullanıcının girdiği sayıları \"toplam\" isimli bir değişkene ekleyin. Kullanıcı \"q\" tuşuna bastığı zaman döngüyü sonlandırın ve ekrana \"toplam değişkenini\" bastırın."
   ]
  },
  {
   "cell_type": "code",
   "execution_count": 6,
   "metadata": {},
   "outputs": [
    {
     "name": "stdout",
     "output_type": "stream",
     "text": [
      "please enter 'q' in order to quit\n",
      "Please enter a positiv number: 3\n",
      "Please enter a positiv number: 4\n",
      "Please enter a positiv number: 5\n",
      "Please enter a positiv number: 6\n",
      "Please enter a positiv number: 7\n",
      "Please enter a positiv number: q\n",
      "The summ of the given numbers is:  25\n"
     ]
    }
   ],
   "source": [
    "print(\"please enter 'q' in order to quit\")\n",
    "numm = input(\"Please enter a positiv number: \")\n",
    "\n",
    "total = 0\n",
    "while numm.isdigit():\n",
    "    total += int(numm)\n",
    "    numm = input(\"Please enter a positiv number: \")\n",
    "    if numm == \"q\" :\n",
    "        break\n",
    "print(\"The summ of the given numbers is: \", total)"
   ]
  },
  {
   "cell_type": "code",
   "execution_count": null,
   "metadata": {},
   "outputs": [],
   "source": [
    "\n"
   ]
  }
 ],
 "metadata": {
  "kernelspec": {
   "display_name": "Python 3",
   "language": "python",
   "name": "python3"
  },
  "language_info": {
   "codemirror_mode": {
    "name": "ipython",
    "version": 3
   },
   "file_extension": ".py",
   "mimetype": "text/x-python",
   "name": "python",
   "nbconvert_exporter": "python",
   "pygments_lexer": "ipython3",
   "version": "3.7.6"
  }
 },
 "nbformat": 4,
 "nbformat_minor": 4
}
