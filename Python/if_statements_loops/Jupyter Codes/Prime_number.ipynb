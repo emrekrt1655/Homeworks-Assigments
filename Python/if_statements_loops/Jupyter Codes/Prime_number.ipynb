{
 "cells": [
  {
   "cell_type": "markdown",
   "metadata": {},
   "source": [
    "### Task : Write a program that takes a number from the user and prints the result to check The examples of the desired output are as follows : input →  19 ⇉ output : 19 is a prime number   input →  10 ⇉ output : 10 is not a prime number"
   ]
  },
  {
   "cell_type": "code",
   "execution_count": 3,
   "metadata": {},
   "outputs": [
    {
     "name": "stdout",
     "output_type": "stream",
     "text": [
      "\n",
      "*************\n",
      "\n",
      "Prime Number or not?\n",
      "\n",
      "*************\n",
      "\n",
      "Please enter positive digit number: 43\n",
      "43 it is a prime number\n"
     ]
    }
   ],
   "source": [
    "print(\"\"\"\n",
    "*************\n",
    "\n",
    "Prime Number or not?\n",
    "\n",
    "*************\n",
    "\"\"\")\n",
    "\n",
    "number = input(\"Please enter positive digit number: \")\n",
    "counter = 2\n",
    "\n",
    "while not number.isdigit() :\n",
    "    print(\"Error!!!\")\n",
    "    number = input(\"Please enter positive digit number: \")\n",
    "    \n",
    "if int(number) == 1 :\n",
    "    print(number,\"it is not a prime number\")\n",
    "elif int(number) == 2 :\n",
    "    print(number,\"it is a prime number\") \n",
    "    \n",
    "number = int(number)\n",
    "    \n",
    "while counter < number : \n",
    "        \n",
    "    if number % counter == 0:\n",
    "        a += 1\n",
    "        print (number,\"it is not a prime number\")\n",
    "        break\n",
    "    else:\n",
    "        print(number, \"it is a prime number\")\n",
    "        break"
   ]
  },
  {
   "cell_type": "code",
   "execution_count": 2,
   "metadata": {},
   "outputs": [
    {
     "name": "stdout",
     "output_type": "stream",
     "text": [
      "enter a number to check if it is a prime or not: 3\n",
      "3 is a prime number.\n"
     ]
    }
   ],
   "source": [
    "# Method 2\n",
    "\n",
    "n = int(input(\"enter a number to check if it is a prime or not: \"))\n",
    "\n",
    "count = 0\n",
    "\n",
    "for i in range (1, n+1) :\n",
    "    if not (n % i) : count += 1\n",
    "        \n",
    "if (n == 0) or (n == 1) or (count >= 3) : print(n, \"is not a prime number.\")\n",
    "else : print(n, \"is a prime number.\") "
   ]
  },
  {
   "cell_type": "code",
   "execution_count": null,
   "metadata": {},
   "outputs": [],
   "source": []
  }
 ],
 "metadata": {
  "kernelspec": {
   "display_name": "Python 3",
   "language": "python",
   "name": "python3"
  },
  "language_info": {
   "codemirror_mode": {
    "name": "ipython",
    "version": 3
   },
   "file_extension": ".py",
   "mimetype": "text/x-python",
   "name": "python",
   "nbconvert_exporter": "python",
   "pygments_lexer": "ipython3",
   "version": "3.7.6"
  }
 },
 "nbformat": 4,
 "nbformat_minor": 4
}
