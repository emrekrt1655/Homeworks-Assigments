{
 "cells": [
  {
   "cell_type": "markdown",
   "metadata": {},
   "source": [
    "### Count the number of each letter in a sentence.\n",
    "\n",
    "The department you work for undertook a project construction that makes word / text analysis. You are asked to calculate the number of letters or any chars in the sentences entered under this project.\n",
    "\n",
    "Write a Python program that;\n",
    "takes a sentence from the user,\n",
    "counts the number of each letter of the sentence,\n",
    "collects the letters/chars as a key and the counted numbers as a value in a dictionary.\n",
    "\n",
    "hippo runs to us!\t\n",
    "{'s': 2, 'r': 1, 't': 1, 'h': 1, 'n': 1, \n",
    "'i': 1, 'u': 2, 'o': 2, 'p': 2, ' ': 3    \n",
    "    \n"
   ]
  },
  {
   "cell_type": "code",
   "execution_count": 2,
   "metadata": {},
   "outputs": [
    {
     "name": "stdout",
     "output_type": "stream",
     "text": [
      "please enter a sentence: dal sarkar kartal kalkar kartal kalkar dal sarkar\n",
      "{'d': 2, 'a': 14, 'l': 6, ' ': 7, 's': 2, 'r': 8, 'k': 8, 't': 2}\n"
     ]
    }
   ],
   "source": [
    "sentence = input(\"please enter a sentence: \")\n",
    "letter = list(sentence)\n",
    "number = []\n",
    "\n",
    "for i in letter:\n",
    "    number.append(letter.count(i))\n",
    "\n",
    "print(dict(zip(letter,number)))"
   ]
  },
  {
   "cell_type": "code",
   "execution_count": 3,
   "metadata": {},
   "outputs": [
    {
     "name": "stdout",
     "output_type": "stream",
     "text": [
      "please enter a sentence: dal sarkar kartal kalkar kartal kalkar dal sarkar\n",
      "{'d': 2, 'a': 14, 'l': 6, ' ': 7, 's': 2, 'r': 8, 'k': 8, 't': 2}\n"
     ]
    }
   ],
   "source": [
    "# Method 2\n",
    "\n",
    "sentence_2 = input(\"please enter a sentence: \")\n",
    "dicti = {}\n",
    "\n",
    "for i in sentence_2:\n",
    "    keys = dicti.keys()\n",
    "    if i in keys :\n",
    "        dicti[i] += 1\n",
    "    else:\n",
    "        dicti[i] = 1\n",
    "print(dicti)"
   ]
  },
  {
   "cell_type": "code",
   "execution_count": null,
   "metadata": {},
   "outputs": [],
   "source": []
  }
 ],
 "metadata": {
  "kernelspec": {
   "display_name": "Python 3",
   "language": "python",
   "name": "python3"
  },
  "language_info": {
   "codemirror_mode": {
    "name": "ipython",
    "version": 3
   },
   "file_extension": ".py",
   "mimetype": "text/x-python",
   "name": "python",
   "nbconvert_exporter": "python",
   "pygments_lexer": "ipython3",
   "version": "3.7.6"
  }
 },
 "nbformat": 4,
 "nbformat_minor": 4
}
