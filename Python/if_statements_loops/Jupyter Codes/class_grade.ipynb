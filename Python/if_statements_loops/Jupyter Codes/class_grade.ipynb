{
 "cells": [
  {
   "cell_type": "markdown",
   "metadata": {},
   "source": [
    "### Calculate the letter grade according to the grades of visa1, visa2, final grades entered by the user.\n",
    "\n",
    "     Visa1 will affect 30% of the total grade.\n",
    "\n",
    "     Visa2 will affect 30% of the total grade.\n",
    "\n",
    "     The final will affect 40% of the total grade.\n",
    "\n",
    "\n",
    "     Total Grade> = 90 -----> AA\n",
    "\n",
    "     Total Grade> = 85 -----> BA\n",
    "\n",
    "     Total Grade> = 80 -----> BB\n",
    "\n",
    "     Total Grade> = 75 -----> CB\n",
    "\n",
    "     Total Grade> = 70 -----> CC\n",
    "\n",
    "     Total Grade> = 65 -----> DC\n",
    "\n",
    "     Total Grade> = 60 -----> DD\n",
    "\n",
    "     Total Grade> = 55 -----> FD\n",
    "\n",
    "     Total Grade <55 -----> FF"
   ]
  },
  {
   "cell_type": "code",
   "execution_count": 3,
   "metadata": {},
   "outputs": [
    {
     "name": "stdout",
     "output_type": "stream",
     "text": [
      "Please enter your first visa score: 70\n",
      "Please enter your second visa score: 60\n",
      "Please enter your final score: 80\n",
      "You passed the class with CC. Your Grade is:  71.0\n"
     ]
    }
   ],
   "source": [
    "visa_1 = (int(input(\"Please enter your first visa score: \"))) * 30 / 100\n",
    "visa_2 = (int(input(\"Please enter your second visa score: \"))) * 30 / 100\n",
    "final = (int(input(\"Please enter your final score: \"))) * 40 / 100\n",
    "\n",
    "total_grade = visa_1 + visa_2 + final\n",
    "\n",
    "if total_grade >= 90 :\n",
    "    print(\"You passed the class with AA. Your Grade is: \", total_grade)\n",
    "elif 90 > total_grade >= 85 :\n",
    "    print(\"You passed the class with BA. Your Grade is: \", total_grade)\n",
    "elif 85 > total_grade >= 80 :\n",
    "    print(\"You passed the class with BB. Your Grade is: \", total_grade)\n",
    "elif 80 > total_grade >= 75 :\n",
    "    print(\"You passed the class with CB. Your Grade is: \", total_grade)\n",
    "elif 75 > total_grade >= 70 :\n",
    "    print(\"You passed the class with CC. Your Grade is: \", total_grade)\n",
    "elif 70 > total_grade >= 65 :\n",
    "    print(\"You passed the class with DC. Your Grade is: \", total_grade)\n",
    "elif 65 > total_grade >= 60 :\n",
    "    print(\"You passed the class with DD. Your Grade is: \", total_grade)\n",
    "elif 60 > total_grade >= 55 :\n",
    "    print(\"You passed the class with FD. Your Grade is: \", total_grade)\n",
    "else:\n",
    "    print(\"You could'not pass the class. Your note is FF. Your Grade is: \", total_grade)"
   ]
  },
  {
   "cell_type": "code",
   "execution_count": null,
   "metadata": {},
   "outputs": [],
   "source": []
  }
 ],
 "metadata": {
  "kernelspec": {
   "display_name": "Python 3",
   "language": "python",
   "name": "python3"
  },
  "language_info": {
   "codemirror_mode": {
    "name": "ipython",
    "version": 3
   },
   "file_extension": ".py",
   "mimetype": "text/x-python",
   "name": "python",
   "nbconvert_exporter": "python",
   "pygments_lexer": "ipython3",
   "version": "3.7.6"
  }
 },
 "nbformat": 4,
 "nbformat_minor": 4
}
