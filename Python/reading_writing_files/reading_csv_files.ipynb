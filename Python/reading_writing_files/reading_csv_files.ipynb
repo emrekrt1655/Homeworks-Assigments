{
 "cells": [
  {
   "cell_type": "markdown",
   "metadata": {},
   "source": [
    "### CSV files reading methods"
   ]
  },
  {
   "cell_type": "code",
   "execution_count": 2,
   "metadata": {},
   "outputs": [
    {
     "name": "stdout",
     "output_type": "stream",
     "text": [
      "no,fruit,amount\n",
      "1,Banana,4 lb\n",
      "2,Orange,5 lb\n",
      "3,Apple,2 lb\n",
      "4,Strawberry,6 lb\n",
      "5,Cherry,3 lb\n"
     ]
    }
   ],
   "source": [
    "# With open() funktion and .read() method\n",
    "\n",
    "with open(\"fruits_2.csv\", \"r\", encoding = \"utf-8\") as file :\n",
    "    print(file.read())"
   ]
  },
  {
   "cell_type": "code",
   "execution_count": 3,
   "metadata": {},
   "outputs": [
    {
     "name": "stdout",
     "output_type": "stream",
     "text": [
      "row num,first name,last name, age\n",
      "1,Haluk,Kutlu,50\n",
      "2,Meltem,Kutlu,45\n",
      "3,Duygu,Kutlu,24\n",
      "4,Mert,Kutlu,20\n",
      "5,Zeynep,Kutlu,13\n"
     ]
    }
   ],
   "source": [
    "with open(\"people.csv\", \"r\", encoding = \"utf-8\") as file :\n",
    "    print(file.read())"
   ]
  },
  {
   "cell_type": "code",
   "execution_count": 8,
   "metadata": {},
   "outputs": [
    {
     "name": "stdout",
     "output_type": "stream",
     "text": [
      "['no', 'fruit', 'amount']\n",
      "['1', 'Banana', '4 lb']\n",
      "['2', 'Orange', '5 lb']\n",
      "['3', 'Apple', '2 lb']\n",
      "['4', 'Strawberry', '6 lb']\n",
      "['5', 'Cherry', '3 lb']\n"
     ]
    }
   ],
   "source": [
    "# CSV Module\n",
    "\n",
    "import csv\n",
    "\n",
    "with open(\"fruits_2.csv\", \"r\", newline = '', encoding = \"utf-8\") as file :\n",
    "    csv_rows = csv.reader(file, delimiter = \",\")\n",
    "    \n",
    "    for row in csv_rows:\n",
    "        print(row)"
   ]
  },
  {
   "cell_type": "code",
   "execution_count": 9,
   "metadata": {},
   "outputs": [
    {
     "name": "stdout",
     "output_type": "stream",
     "text": [
      "['row num', 'first name', 'last name', ' age']\n",
      "['1', 'Haluk', 'Kutlu', '50']\n",
      "['2', 'Meltem', 'Kutlu', '45']\n",
      "['3', 'Duygu', 'Kutlu', '24']\n",
      "['4', 'Mert', 'Kutlu', '20']\n",
      "['5', 'Zeynep', 'Kutlu', '13']\n"
     ]
    }
   ],
   "source": [
    "with open(\"people.csv\", \"r\", newline = '', encoding = \"utf-8\") as file :\n",
    "    csv_row = csv.reader(file, delimiter = \",\")\n",
    "    \n",
    "    for row in csv_row:\n",
    "        print(row)"
   ]
  },
  {
   "cell_type": "code",
   "execution_count": 11,
   "metadata": {},
   "outputs": [
    {
     "name": "stdout",
     "output_type": "stream",
     "text": [
      "['row num,first name,last name, age']\n",
      "['1,Haluk,Kutlu,50']\n",
      "['2,Meltem,Kutlu,45']\n",
      "['3,Duygu,Kutlu,24']\n",
      "['4,Mert,Kutlu,20']\n",
      "['5,Zeynep,Kutlu,13']\n"
     ]
    }
   ],
   "source": [
    "with open(\"people.csv\", \"r\", newline = '', encoding = \"utf-8\") as file :\n",
    "    csv_row = csv.reader(file, delimiter = \";\")\n",
    "    \n",
    "    for row in csv_row:\n",
    "        print(row)\n",
    "# When we use another char, returns one  element in list  "
   ]
  },
  {
   "cell_type": "code",
   "execution_count": 12,
   "metadata": {},
   "outputs": [
    {
     "name": "stdout",
     "output_type": "stream",
     "text": [
      "row num-first name-last name-age\n",
      "1-Haluk-Kutlu-50\n",
      "2-Meltem-Kutlu-45\n",
      "3-Duygu-Kutlu-24\n",
      "4-Mert-Kutlu-20\n",
      "5-Zeynep-Kutlu-13\n"
     ]
    }
   ],
   "source": [
    "with open(\"people_2.csv\", \"r\", encoding = \"utf-8\") as file :\n",
    "    print(file.read())"
   ]
  },
  {
   "cell_type": "code",
   "execution_count": 13,
   "metadata": {},
   "outputs": [
    {
     "name": "stdout",
     "output_type": "stream",
     "text": [
      "['row num', 'first name', 'last name', 'age']\n",
      "['1', 'Haluk', 'Kutlu', '50']\n",
      "['2', 'Meltem', 'Kutlu', '45']\n",
      "['3', 'Duygu', 'Kutlu', '24']\n",
      "['4', 'Mert', 'Kutlu', '20']\n",
      "['5', 'Zeynep', 'Kutlu', '13']\n"
     ]
    }
   ],
   "source": [
    "with open(\"people_2.csv\", \"r\", newline = '', encoding = \"utf-8\") as file :\n",
    "    csv_row2 = csv.reader(file, delimiter = \"-\")\n",
    "    \n",
    "    for row2 in csv_row2:\n",
    "        print(row2)"
   ]
  },
  {
   "cell_type": "code",
   "execution_count": 16,
   "metadata": {},
   "outputs": [],
   "source": [
    "import pandas as pd"
   ]
  },
  {
   "cell_type": "code",
   "execution_count": 17,
   "metadata": {},
   "outputs": [
    {
     "data": {
      "text/html": [
       "<div>\n",
       "<style scoped>\n",
       "    .dataframe tbody tr th:only-of-type {\n",
       "        vertical-align: middle;\n",
       "    }\n",
       "\n",
       "    .dataframe tbody tr th {\n",
       "        vertical-align: top;\n",
       "    }\n",
       "\n",
       "    .dataframe thead th {\n",
       "        text-align: right;\n",
       "    }\n",
       "</style>\n",
       "<table border=\"1\" class=\"dataframe\">\n",
       "  <thead>\n",
       "    <tr style=\"text-align: right;\">\n",
       "      <th></th>\n",
       "      <th>no</th>\n",
       "      <th>fruit</th>\n",
       "      <th>amount</th>\n",
       "    </tr>\n",
       "  </thead>\n",
       "  <tbody>\n",
       "    <tr>\n",
       "      <th>0</th>\n",
       "      <td>1</td>\n",
       "      <td>Banana</td>\n",
       "      <td>4 lb</td>\n",
       "    </tr>\n",
       "    <tr>\n",
       "      <th>1</th>\n",
       "      <td>2</td>\n",
       "      <td>Orange</td>\n",
       "      <td>5 lb</td>\n",
       "    </tr>\n",
       "    <tr>\n",
       "      <th>2</th>\n",
       "      <td>3</td>\n",
       "      <td>Apple</td>\n",
       "      <td>2 lb</td>\n",
       "    </tr>\n",
       "    <tr>\n",
       "      <th>3</th>\n",
       "      <td>4</td>\n",
       "      <td>Strawberry</td>\n",
       "      <td>6 lb</td>\n",
       "    </tr>\n",
       "    <tr>\n",
       "      <th>4</th>\n",
       "      <td>5</td>\n",
       "      <td>Cherry</td>\n",
       "      <td>3 lb</td>\n",
       "    </tr>\n",
       "  </tbody>\n",
       "</table>\n",
       "</div>"
      ],
      "text/plain": [
       "   no       fruit amount\n",
       "0   1      Banana   4 lb\n",
       "1   2      Orange   5 lb\n",
       "2   3       Apple   2 lb\n",
       "3   4  Strawberry   6 lb\n",
       "4   5      Cherry   3 lb"
      ]
     },
     "execution_count": 17,
     "metadata": {},
     "output_type": "execute_result"
    }
   ],
   "source": [
    "df = pd.read_csv(\"fruits_2.csv\")\n",
    "df"
   ]
  },
  {
   "cell_type": "code",
   "execution_count": 18,
   "metadata": {},
   "outputs": [
    {
     "data": {
      "text/html": [
       "<div>\n",
       "<style scoped>\n",
       "    .dataframe tbody tr th:only-of-type {\n",
       "        vertical-align: middle;\n",
       "    }\n",
       "\n",
       "    .dataframe tbody tr th {\n",
       "        vertical-align: top;\n",
       "    }\n",
       "\n",
       "    .dataframe thead th {\n",
       "        text-align: right;\n",
       "    }\n",
       "</style>\n",
       "<table border=\"1\" class=\"dataframe\">\n",
       "  <thead>\n",
       "    <tr style=\"text-align: right;\">\n",
       "      <th></th>\n",
       "      <th>first name</th>\n",
       "      <th>last name</th>\n",
       "      <th>age</th>\n",
       "    </tr>\n",
       "    <tr>\n",
       "      <th>row num</th>\n",
       "      <th></th>\n",
       "      <th></th>\n",
       "      <th></th>\n",
       "    </tr>\n",
       "  </thead>\n",
       "  <tbody>\n",
       "    <tr>\n",
       "      <th>1</th>\n",
       "      <td>Haluk</td>\n",
       "      <td>Kutlu</td>\n",
       "      <td>50</td>\n",
       "    </tr>\n",
       "    <tr>\n",
       "      <th>2</th>\n",
       "      <td>Meltem</td>\n",
       "      <td>Kutlu</td>\n",
       "      <td>45</td>\n",
       "    </tr>\n",
       "    <tr>\n",
       "      <th>3</th>\n",
       "      <td>Duygu</td>\n",
       "      <td>Kutlu</td>\n",
       "      <td>24</td>\n",
       "    </tr>\n",
       "    <tr>\n",
       "      <th>4</th>\n",
       "      <td>Mert</td>\n",
       "      <td>Kutlu</td>\n",
       "      <td>20</td>\n",
       "    </tr>\n",
       "    <tr>\n",
       "      <th>5</th>\n",
       "      <td>Zeynep</td>\n",
       "      <td>Kutlu</td>\n",
       "      <td>13</td>\n",
       "    </tr>\n",
       "  </tbody>\n",
       "</table>\n",
       "</div>"
      ],
      "text/plain": [
       "        first name last name   age\n",
       "row num                           \n",
       "1            Haluk     Kutlu    50\n",
       "2           Meltem     Kutlu    45\n",
       "3            Duygu     Kutlu    24\n",
       "4             Mert     Kutlu    20\n",
       "5           Zeynep     Kutlu    13"
      ]
     },
     "execution_count": 18,
     "metadata": {},
     "output_type": "execute_result"
    }
   ],
   "source": [
    "cd = pd.read_csv(\"people.csv\", index_col = 0)\n",
    "\n",
    "cd"
   ]
  },
  {
   "cell_type": "code",
   "execution_count": 21,
   "metadata": {},
   "outputs": [
    {
     "data": {
      "text/html": [
       "<div>\n",
       "<style scoped>\n",
       "    .dataframe tbody tr th:only-of-type {\n",
       "        vertical-align: middle;\n",
       "    }\n",
       "\n",
       "    .dataframe tbody tr th {\n",
       "        vertical-align: top;\n",
       "    }\n",
       "\n",
       "    .dataframe thead th {\n",
       "        text-align: right;\n",
       "    }\n",
       "</style>\n",
       "<table border=\"1\" class=\"dataframe\">\n",
       "  <thead>\n",
       "    <tr style=\"text-align: right;\">\n",
       "      <th></th>\n",
       "      <th>first name</th>\n",
       "      <th>last name</th>\n",
       "      <th>age</th>\n",
       "    </tr>\n",
       "    <tr>\n",
       "      <th>row num</th>\n",
       "      <th></th>\n",
       "      <th></th>\n",
       "      <th></th>\n",
       "    </tr>\n",
       "  </thead>\n",
       "  <tbody>\n",
       "    <tr>\n",
       "      <th>1</th>\n",
       "      <td>Haluk</td>\n",
       "      <td>Kutlu</td>\n",
       "      <td>50</td>\n",
       "    </tr>\n",
       "    <tr>\n",
       "      <th>2</th>\n",
       "      <td>Meltem</td>\n",
       "      <td>Kutlu</td>\n",
       "      <td>45</td>\n",
       "    </tr>\n",
       "    <tr>\n",
       "      <th>3</th>\n",
       "      <td>Duygu</td>\n",
       "      <td>Kutlu</td>\n",
       "      <td>24</td>\n",
       "    </tr>\n",
       "    <tr>\n",
       "      <th>4</th>\n",
       "      <td>Mert</td>\n",
       "      <td>Kutlu</td>\n",
       "      <td>20</td>\n",
       "    </tr>\n",
       "    <tr>\n",
       "      <th>5</th>\n",
       "      <td>Zeynep</td>\n",
       "      <td>Kutlu</td>\n",
       "      <td>13</td>\n",
       "    </tr>\n",
       "  </tbody>\n",
       "</table>\n",
       "</div>"
      ],
      "text/plain": [
       "        first name last name  age\n",
       "row num                          \n",
       "1            Haluk     Kutlu   50\n",
       "2           Meltem     Kutlu   45\n",
       "3            Duygu     Kutlu   24\n",
       "4             Mert     Kutlu   20\n",
       "5           Zeynep     Kutlu   13"
      ]
     },
     "execution_count": 21,
     "metadata": {},
     "output_type": "execute_result"
    }
   ],
   "source": [
    "kl = pd.read_csv(\"people_2.csv\", sep = \"-\", index_col = 0)\n",
    "kl"
   ]
  },
  {
   "cell_type": "code",
   "execution_count": null,
   "metadata": {},
   "outputs": [],
   "source": []
  }
 ],
 "metadata": {
  "kernelspec": {
   "display_name": "Python 3",
   "language": "python",
   "name": "python3"
  },
  "language_info": {
   "codemirror_mode": {
    "name": "ipython",
    "version": 3
   },
   "file_extension": ".py",
   "mimetype": "text/x-python",
   "name": "python",
   "nbconvert_exporter": "python",
   "pygments_lexer": "ipython3",
   "version": "3.7.6"
  }
 },
 "nbformat": 4,
 "nbformat_minor": 4
}
